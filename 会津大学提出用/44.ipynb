{
 "cells": [
  {
   "cell_type": "code",
   "execution_count": 4,
   "metadata": {},
   "outputs": [
    {
     "name": "stdout",
     "output_type": "stream",
     "text": [
      "3\n",
      "1 2 3 4 5 6\n",
      "6 5 4 3 2 1\n",
      "6 2 4 3 5 1\n",
      "No\n"
     ]
    }
   ],
   "source": [
    "import random\n",
    "\n",
    "n = int(input())\n",
    "flag = False\n",
    "l =[]\n",
    "O = [\"E\", \"W\", \"S\", \"N\"]\n",
    "for i in range(10000):\n",
    "    j = random.randint(0,3)\n",
    "    l.append(O[j])\n",
    "D = [list(map(int, input().split())) for i in range(n)]\n",
    "for j in range(n):\n",
    "    for i in range(j + 1, n):\n",
    "        for k in range(10000):\n",
    "            if D[i] == D[j]:\n",
    "                flag = True\n",
    "                break\n",
    "            if l[k] == \"E\":\n",
    "                DD1   = D[i][0]\n",
    "                D[i][0] = D[i][3]\n",
    "                D[i][3] = D[i][5]\n",
    "                D[i][5] = D[i][2]\n",
    "                D[i][2] = DD1 \n",
    "            if l[k] == \"W\":\n",
    "                DD2 = D[i][3]\n",
    "                D[i][3] = D[i][0]\n",
    "                D[i][0] = D[i][2]\n",
    "                D[i][2] = D[i][5]\n",
    "                D[i][5] = DD2\n",
    "\n",
    "            if l[k] == \"S\":\n",
    "                DD3 = D[i][0]\n",
    "                D[i][0] = D[i][4]\n",
    "                D[i][4] = D[i][5]\n",
    "                D[i][5] = D[i][1]\n",
    "                D[i][1] = DD3\n",
    "            if l[k] == \"N\":\n",
    "                DD4 = D[i][4]\n",
    "                D[i][4] = D[i][0]\n",
    "                D[i][0] = D[i][1]\n",
    "                D[i][1] = D[i][5]\n",
    "                D[i][5] = DD4\n",
    "if flag == False:\n",
    "    print(\"YES\")\n",
    "else:\n",
    "    print(\"No\")"
   ]
  }
 ],
 "metadata": {
  "kernelspec": {
   "display_name": "Python 3",
   "language": "python",
   "name": "python3"
  },
  "language_info": {
   "codemirror_mode": {
    "name": "ipython",
    "version": 3
   },
   "file_extension": ".py",
   "mimetype": "text/x-python",
   "name": "python",
   "nbconvert_exporter": "python",
   "pygments_lexer": "ipython3",
   "version": "3.6.5"
  }
 },
 "nbformat": 4,
 "nbformat_minor": 2
}
