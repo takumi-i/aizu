{
 "cells": [
  {
   "cell_type": "code",
   "execution_count": 1,
   "metadata": {},
   "outputs": [
    {
     "name": "stdout",
     "output_type": "stream",
     "text": [
      "30\n",
      "3 6 9 12 13 15 18 21 23 24 27 30 "
     ]
    }
   ],
   "source": [
    "n = int(input())\n",
    "for i in range(1,n+1):\n",
    "    if i % 3 == 0:\n",
    "        print(i ,end=\" \")\n",
    "    else:\n",
    "        x = i\n",
    "        while True:\n",
    "            if (x % 10 == 3):\n",
    "                print(i ,end=\" \")\n",
    "                break\n",
    "            if x <= 0:\n",
    "                break\n",
    "            else:\n",
    "                x = x / 10"
   ]
  }
 ],
 "metadata": {
  "kernelspec": {
   "display_name": "Python 3",
   "language": "python",
   "name": "python3"
  },
  "language_info": {
   "codemirror_mode": {
    "name": "ipython",
    "version": 3
   },
   "file_extension": ".py",
   "mimetype": "text/x-python",
   "name": "python",
   "nbconvert_exporter": "python",
   "pygments_lexer": "ipython3",
   "version": "3.6.5"
  }
 },
 "nbformat": 4,
 "nbformat_minor": 2
}
