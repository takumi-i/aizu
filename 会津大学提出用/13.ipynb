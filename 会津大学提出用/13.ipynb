{
 "cells": [
  {
   "cell_type": "code",
   "execution_count": 1,
   "metadata": {},
   "outputs": [
    {
     "name": "stdout",
     "output_type": "stream",
     "text": [
      "3 2\n",
      "1 1 1.500000\n"
     ]
    }
   ],
   "source": [
    "a,b = input().split()\n",
    "A = int(a)\n",
    "B = int(b)\n",
    "c = int(A / B)\n",
    "d = A % B\n",
    "e = float(A / B)\n",
    "print(str(c) + \" \" + str(d) + \" \" + \"{0:.6f}\".format(e))"
   ]
  }
 ],
 "metadata": {
  "kernelspec": {
   "display_name": "Python 3",
   "language": "python",
   "name": "python3"
  },
  "language_info": {
   "codemirror_mode": {
    "name": "ipython",
    "version": 3
   },
   "file_extension": ".py",
   "mimetype": "text/x-python",
   "name": "python",
   "nbconvert_exporter": "python",
   "pygments_lexer": "ipython3",
   "version": "3.6.5"
  }
 },
 "nbformat": 4,
 "nbformat_minor": 2
}
