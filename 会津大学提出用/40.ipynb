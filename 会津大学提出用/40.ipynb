{
 "cells": [
  {
   "cell_type": "code",
   "execution_count": 1,
   "metadata": {},
   "outputs": [
    {
     "name": "stdout",
     "output_type": "stream",
     "text": [
      "3\n",
      "1 2 3\n",
      "2 0 4\n",
      "4\n",
      "2.449489742783178\n",
      "2.154434690031884\n",
      "2\n"
     ]
    }
   ],
   "source": [
    "import math\n",
    "n = int(input())\n",
    "X = list(map(int, input().split()))\n",
    "Y = list(map(int, input().split()))\n",
    "l = [0 * n]\n",
    "#D1 = sum((abs(i - j)) for i in X for j in Y)\n",
    "D1 = 0\n",
    "for i in range(n):\n",
    "    D1 = D1 + abs(X[i] - Y[i])\n",
    "print(D1)\n",
    "D2 = 0\n",
    "for i in range(n):\n",
    "    D2 = D2 + abs(X[i] - Y[i]) ** 2\n",
    "d2 = math.sqrt(D2)\n",
    "print(d2)\n",
    "D3 = 0\n",
    "for i in range(n):\n",
    "    D3 = D3 + abs(X[i] - Y[i]) ** 3\n",
    "d3 = D3 ** (1/3)\n",
    "print(d3)\n",
    "DD = 0\n",
    "for i in range(n):\n",
    "    #l[i] (X[i] - Y[i])\n",
    "    if abs(X[i] - Y[i]) > DD:\n",
    "        DD = abs(X[i] - Y[i])\n",
    "    else:\n",
    "        DD = DD\n",
    "#dd = max(l)\n",
    "print(DD)"
   ]
  }
 ],
 "metadata": {
  "kernelspec": {
   "display_name": "Python 3",
   "language": "python",
   "name": "python3"
  },
  "language_info": {
   "codemirror_mode": {
    "name": "ipython",
    "version": 3
   },
   "file_extension": ".py",
   "mimetype": "text/x-python",
   "name": "python",
   "nbconvert_exporter": "python",
   "pygments_lexer": "ipython3",
   "version": "3.6.5"
  }
 },
 "nbformat": 4,
 "nbformat_minor": 2
}
