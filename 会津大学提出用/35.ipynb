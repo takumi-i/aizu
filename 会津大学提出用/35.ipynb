{
 "cells": [
  {
   "cell_type": "code",
   "execution_count": 1,
   "metadata": {},
   "outputs": [
    {
     "name": "stdout",
     "output_type": "stream",
     "text": [
      "3\n",
      "cat dog\n",
      "fish fish\n",
      "lion tiger\n",
      "1 7\n"
     ]
    }
   ],
   "source": [
    "n = int(input())\n",
    "TS = 0\n",
    "HS = 0\n",
    "for i in range(n):\n",
    "    taro, hana = map(str, input().split())\n",
    "    if taro > hana:\n",
    "        TS = TS + 3\n",
    "    elif hana > taro:\n",
    "        HS = HS + 3\n",
    "    else:\n",
    "        TS = TS + 1\n",
    "        HS = HS + 1\n",
    "print(str(TS) + \" \" + str(HS))"
   ]
  }
 ],
 "metadata": {
  "kernelspec": {
   "display_name": "Python 3",
   "language": "python",
   "name": "python3"
  },
  "language_info": {
   "codemirror_mode": {
    "name": "ipython",
    "version": 3
   },
   "file_extension": ".py",
   "mimetype": "text/x-python",
   "name": "python",
   "nbconvert_exporter": "python",
   "pygments_lexer": "ipython3",
   "version": "3.6.5"
  }
 },
 "nbformat": 4,
 "nbformat_minor": 2
}
