{
 "cells": [
  {
   "cell_type": "code",
   "execution_count": 1,
   "metadata": {},
   "outputs": [
    {
     "name": "stdout",
     "output_type": "stream",
     "text": [
      "4 3 90\n",
      "6.0\n",
      "12.0\n",
      "3.0\n"
     ]
    }
   ],
   "source": [
    "import math\n",
    "a,b,C = map(int, input().split())\n",
    "C = math.radians(C)\n",
    "c = math.sqrt(a ** 2 + b ** 2 - (2 * a * b * math.cos(C)))\n",
    "#c = int(c)\n",
    "S = 1 / 2 * a * b * math.sin(C)\n",
    "L = a + b + c\n",
    "h = S / a * 2\n",
    "print(S)\n",
    "print(L)\n",
    "print(h)"
   ]
  }
 ],
 "metadata": {
  "kernelspec": {
   "display_name": "Python 3",
   "language": "python",
   "name": "python3"
  },
  "language_info": {
   "codemirror_mode": {
    "name": "ipython",
    "version": 3
   },
   "file_extension": ".py",
   "mimetype": "text/x-python",
   "name": "python",
   "nbconvert_exporter": "python",
   "pygments_lexer": "ipython3",
   "version": "3.6.5"
  }
 },
 "nbformat": 4,
 "nbformat_minor": 2
}
