{
 "cells": [
  {
   "cell_type": "code",
   "execution_count": 1,
   "metadata": {},
   "outputs": [
    {
     "name": "stdout",
     "output_type": "stream",
     "text": [
      "3\n",
      "1 2 3 1\n",
      "1 2 1 2\n",
      "1 2 3 4\n",
      "0 0 0 0 0 0 0 0 0 0 \n",
      "2 0 5 0 0 0 0 0 0 0 \n",
      "0 0 0 0 0 0 0 0 0 0 \n",
      "#########################\n",
      "0 0 0 0 0 0 0 0 0 0 \n",
      "0 0 0 0 0 0 0 0 0 0 \n",
      "0 0 0 0 0 0 0 0 0 0 \n",
      "#########################\n",
      "0 0 0 0 0 0 0 0 0 0 \n",
      "0 0 0 0 0 0 0 0 0 0 \n",
      "0 0 0 0 0 0 0 0 0 0 \n",
      "#########################\n",
      "0 0 0 0 0 0 0 0 0 0 \n",
      "0 0 0 0 0 0 0 0 0 0 \n",
      "0 0 0 0 0 0 0 0 0 0 \n"
     ]
    }
   ],
   "source": [
    "n = int(input())\n",
    "l = [[[0 for r in range(10)] for f in range(3)]for b in range(4)]\n",
    "for i in range(n):\n",
    "    b, f, r, v = map(int, input().split())\n",
    "    l[b-1][f-1][r-1] = l[b-1][f-1][r-1] + v\n",
    "for b in range(4):\n",
    "    for f in range(3):\n",
    "        for r in range(10):\n",
    "            print((l[b][f][r]), end=\" \")\n",
    "        print()\n",
    "    if  b != 3:\n",
    "        print('#########################')"
   ]
  }
 ],
 "metadata": {
  "kernelspec": {
   "display_name": "Python 3",
   "language": "python",
   "name": "python3"
  },
  "language_info": {
   "codemirror_mode": {
    "name": "ipython",
    "version": 3
   },
   "file_extension": ".py",
   "mimetype": "text/x-python",
   "name": "python",
   "nbconvert_exporter": "python",
   "pygments_lexer": "ipython3",
   "version": "3.6.5"
  }
 },
 "nbformat": 4,
 "nbformat_minor": 2
}
