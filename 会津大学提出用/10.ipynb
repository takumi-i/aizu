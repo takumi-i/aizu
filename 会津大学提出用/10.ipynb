{
 "cells": [
  {
   "cell_type": "code",
   "execution_count": 1,
   "metadata": {},
   "outputs": [
    {
     "name": "stdout",
     "output_type": "stream",
     "text": [
      "4\n",
      "case 1: 4\n",
      "3\n",
      "case 2: 3\n",
      "2\n",
      "case 3: 2\n",
      "1\n",
      "case 4: 1\n",
      "0\n",
      "case 5: 0\n"
     ]
    }
   ],
   "source": [
    "i = 1\n",
    "x = 1\n",
    "while x >=1:\n",
    "    x = int(input())\n",
    "    print(\"case \" + str(i) +\": \" + str(x))\n",
    "    i = i + 1"
   ]
  }
 ],
 "metadata": {
  "kernelspec": {
   "display_name": "Python 3",
   "language": "python",
   "name": "python3"
  },
  "language_info": {
   "codemirror_mode": {
    "name": "ipython",
    "version": 3
   },
   "file_extension": ".py",
   "mimetype": "text/x-python",
   "name": "python",
   "nbconvert_exporter": "python",
   "pygments_lexer": "ipython3",
   "version": "3.6.5"
  }
 },
 "nbformat": 4,
 "nbformat_minor": 2
}
