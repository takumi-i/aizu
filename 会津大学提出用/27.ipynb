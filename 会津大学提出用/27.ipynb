{
 "cells": [
  {
   "cell_type": "code",
   "execution_count": 1,
   "metadata": {},
   "outputs": [
    {
     "name": "stdout",
     "output_type": "stream",
     "text": [
      "2 2\n",
      "1 1\n",
      "2 2\n",
      "1 1 2\n",
      "2 2 4\n",
      "3 3 6\n"
     ]
    }
   ],
   "source": [
    "r,c = map(int,input().split())\n",
    "S = 0\n",
    "Sc = 0\n",
    "s = 0\n",
    "\n",
    "l = [list(map(int,input().split())) for i in range(r)]\n",
    "for i in range(r):\n",
    "    for j in range(c):\n",
    "        print(l[i][j],end=\" \")\n",
    "        S = S + l[i][j]\n",
    "    s = s + S\n",
    "    print(S)\n",
    "    S = 0\n",
    "for i in range(c):\n",
    "    for j in range(r):\n",
    "        Sc = Sc + l[j][i]\n",
    "    print(Sc,end=\" \")\n",
    "    #S = S + Sc\n",
    "    Sc = 0\n",
    "print(s)"
   ]
  }
 ],
 "metadata": {
  "kernelspec": {
   "display_name": "Python 3",
   "language": "python",
   "name": "python3"
  },
  "language_info": {
   "codemirror_mode": {
    "name": "ipython",
    "version": 3
   },
   "file_extension": ".py",
   "mimetype": "text/x-python",
   "name": "python",
   "nbconvert_exporter": "python",
   "pygments_lexer": "ipython3",
   "version": "3.6.5"
  }
 },
 "nbformat": 4,
 "nbformat_minor": 2
}
