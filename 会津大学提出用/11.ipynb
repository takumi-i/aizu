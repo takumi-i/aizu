{
 "cells": [
  {
   "cell_type": "code",
   "execution_count": 1,
   "metadata": {},
   "outputs": [
    {
     "name": "stdout",
     "output_type": "stream",
     "text": [
      "2 2\n",
      "2 2\n",
      "5 3\n",
      "3 5\n",
      "0 0\n",
      "0 0\n"
     ]
    }
   ],
   "source": [
    "i = 1\n",
    "x = 1\n",
    "y = 1\n",
    "while True:\n",
    "    X,Y = input().split()\n",
    "    x = int(X)\n",
    "    y = int(Y)\n",
    "    l = ([x,y])\n",
    "    l.sort()\n",
    "    if x ==0 and y ==0:\n",
    "        print(str(l[0]) + \" \" + str(l[1]))\n",
    "        break\n",
    "    print(str(l[0]) + \" \" + str(l[1]))\n",
    "    i = i + 1"
   ]
  }
 ],
 "metadata": {
  "kernelspec": {
   "display_name": "Python 3",
   "language": "python",
   "name": "python3"
  },
  "language_info": {
   "codemirror_mode": {
    "name": "ipython",
    "version": 3
   },
   "file_extension": ".py",
   "mimetype": "text/x-python",
   "name": "python",
   "nbconvert_exporter": "python",
   "pygments_lexer": "ipython3",
   "version": "3.6.5"
  }
 },
 "nbformat": 4,
 "nbformat_minor": 2
}
