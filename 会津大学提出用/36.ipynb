{
 "cells": [
  {
   "cell_type": "code",
   "execution_count": 1,
   "metadata": {},
   "outputs": [
    {
     "name": "stdout",
     "output_type": "stream",
     "text": [
      "abcde\n",
      "3\n",
      "replace 1 3 xyz\n",
      "reverse 0 2\n",
      "print 1 4\n",
      "xaze\n"
     ]
    }
   ],
   "source": [
    "STR = input()\n",
    "q = int(input())\n",
    "for i in range(q):\n",
    "    l = input().split()\n",
    "    o = l[0]\n",
    "    a = int(l[1])\n",
    "    b = int(l[2])\n",
    "    if o == \"print\":\n",
    "        print(STR[a:b + 1])\n",
    "    elif o == \"reverse\":\n",
    "        STR = STR[0:a] + STR[a:b + 1][::-1] + STR[b + 1:]\n",
    "        #STR[a:b] = reversed(STR[a:b])\n",
    "    elif o == \"replace\":\n",
    "        p = l[3]\n",
    "        STR = STR[0:a] + p + STR[b + 1]"
   ]
  }
 ],
 "metadata": {
  "kernelspec": {
   "display_name": "Python 3",
   "language": "python",
   "name": "python3"
  },
  "language_info": {
   "codemirror_mode": {
    "name": "ipython",
    "version": 3
   },
   "file_extension": ".py",
   "mimetype": "text/x-python",
   "name": "python",
   "nbconvert_exporter": "python",
   "pygments_lexer": "ipython3",
   "version": "3.6.5"
  }
 },
 "nbformat": 4,
 "nbformat_minor": 2
}
