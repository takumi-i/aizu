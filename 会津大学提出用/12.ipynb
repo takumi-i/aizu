{
 "cells": [
  {
   "cell_type": "code",
   "execution_count": 1,
   "metadata": {},
   "outputs": [
    {
     "name": "stdout",
     "output_type": "stream",
     "text": [
      "5 14 80\n",
      "3\n"
     ]
    }
   ],
   "source": [
    "a,b,c = input().split()\n",
    "d = int(a)\n",
    "e = int(b)\n",
    "f = int(c)\n",
    "dd = d\n",
    "x = 0\n",
    "for d in range (e-d+1):\n",
    "    if f % dd == 0:\n",
    "        x = x + 1\n",
    "    dd = dd + 1\n",
    "print(x)"
   ]
  }
 ],
 "metadata": {
  "kernelspec": {
   "display_name": "Python 3",
   "language": "python",
   "name": "python3"
  },
  "language_info": {
   "codemirror_mode": {
    "name": "ipython",
    "version": 3
   },
   "file_extension": ".py",
   "mimetype": "text/x-python",
   "name": "python",
   "nbconvert_exporter": "python",
   "pygments_lexer": "ipython3",
   "version": "3.6.5"
  }
 },
 "nbformat": 4,
 "nbformat_minor": 2
}
