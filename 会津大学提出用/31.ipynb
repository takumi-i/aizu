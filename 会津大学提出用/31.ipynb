{
 "cells": [
  {
   "cell_type": "code",
   "execution_count": 1,
   "metadata": {},
   "outputs": [
    {
     "name": "stdout",
     "output_type": "stream",
     "text": [
      "hello world\n",
      "a : 0\n",
      "b : 0\n",
      "c : 0\n",
      "d : 1\n",
      "e : 1\n",
      "f : 0\n",
      "g : 0\n",
      "h : 1\n",
      "i : 0\n",
      "j : 0\n",
      "k : 0\n",
      "l : 3\n",
      "m : 0\n",
      "n : 0\n",
      "o : 2\n",
      "p : 0\n",
      "q : 0\n",
      "r : 1\n",
      "s : 0\n",
      "t : 0\n",
      "u : 0\n",
      "v : 0\n",
      "w : 1\n",
      "x : 0\n",
      "y : 0\n",
      "z : 0\n"
     ]
    }
   ],
   "source": [
    "w = str(input())\n",
    "n = 0\n",
    "for i in \"abcdefghijklmnopqrstuvwxyz\":\n",
    "    n = w.count(i)\n",
    "    print(i + \" : \" + str(n))"
   ]
  }
 ],
 "metadata": {
  "kernelspec": {
   "display_name": "Python 3",
   "language": "python",
   "name": "python3"
  },
  "language_info": {
   "codemirror_mode": {
    "name": "ipython",
    "version": 3
   },
   "file_extension": ".py",
   "mimetype": "text/x-python",
   "name": "python",
   "nbconvert_exporter": "python",
   "pygments_lexer": "ipython3",
   "version": "3.6.5"
  }
 },
 "nbformat": 4,
 "nbformat_minor": 2
}
