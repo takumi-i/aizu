{
 "cells": [
  {
   "cell_type": "code",
   "execution_count": 1,
   "metadata": {},
   "outputs": [
    {
     "name": "stdout",
     "output_type": "stream",
     "text": [
      "5 9\n",
      "2\n",
      "0 0\n"
     ]
    }
   ],
   "source": [
    "while True:\n",
    "    n,x = map(int,input().split())\n",
    "    total = 0\n",
    "    if n == 0 and x == 0:\n",
    "        break\n",
    "    for i in range(1, n + 1):\n",
    "        for j in range(1 + i, n + 1):\n",
    "            for k in range(1 + j, n + 1):\n",
    "                sum = i + j + k\n",
    "                if sum == x:\n",
    "                    total = total + 1\n",
    "    print(total)"
   ]
  }
 ],
 "metadata": {
  "kernelspec": {
   "display_name": "Python 3",
   "language": "python",
   "name": "python3"
  },
  "language_info": {
   "codemirror_mode": {
    "name": "ipython",
    "version": 3
   },
   "file_extension": ".py",
   "mimetype": "text/x-python",
   "name": "python",
   "nbconvert_exporter": "python",
   "pygments_lexer": "ipython3",
   "version": "3.6.5"
  }
 },
 "nbformat": 4,
 "nbformat_minor": 2
}
