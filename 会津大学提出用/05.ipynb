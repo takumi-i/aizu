{
 "cells": [
  {
   "cell_type": "code",
   "execution_count": 1,
   "metadata": {},
   "outputs": [
    {
     "name": "stdout",
     "output_type": "stream",
     "text": [
      "4 4\n",
      "4 == 4\n"
     ]
    }
   ],
   "source": [
    "a,b=input().split()\n",
    "c = int(a)\n",
    "d = int(b)\n",
    "if c < d:\n",
    "    print(str(c) + \" < \" + str(d))\n",
    "if c > d:\n",
    "    print(str(c) + \" > \" + str(d))\n",
    "if c == d:\n",
    "    print(str(c) + \" == \" + str(d))"
   ]
  }
 ],
 "metadata": {
  "kernelspec": {
   "display_name": "Python 3",
   "language": "python",
   "name": "python3"
  },
  "language_info": {
   "codemirror_mode": {
    "name": "ipython",
    "version": 3
   },
   "file_extension": ".py",
   "mimetype": "text/x-python",
   "name": "python",
   "nbconvert_exporter": "python",
   "pygments_lexer": "ipython3",
   "version": "3.6.5"
  }
 },
 "nbformat": 4,
 "nbformat_minor": 2
}
