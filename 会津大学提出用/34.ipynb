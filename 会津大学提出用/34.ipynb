{
 "cells": [
  {
   "cell_type": "code",
   "execution_count": 2,
   "metadata": {},
   "outputs": [
    {
     "name": "stdout",
     "output_type": "stream",
     "text": [
      "aabc\n",
      "3\n",
      "1\n",
      "2\n",
      "1\n",
      "aabc\n",
      "-\n"
     ]
    }
   ],
   "source": [
    "while True:\n",
    "    w = str(input())\n",
    "    if w == \"-\":\n",
    "        break\n",
    "    m = int(input())\n",
    "    for i in range(m):\n",
    "        h = int(input())\n",
    "        w = w[h:] + w[:h]\n",
    "    print(w)"
   ]
  }
 ],
 "metadata": {
  "kernelspec": {
   "display_name": "Python 3",
   "language": "python",
   "name": "python3"
  },
  "language_info": {
   "codemirror_mode": {
    "name": "ipython",
    "version": 3
   },
   "file_extension": ".py",
   "mimetype": "text/x-python",
   "name": "python",
   "nbconvert_exporter": "python",
   "pygments_lexer": "ipython3",
   "version": "3.6.5"
  }
 },
 "nbformat": 4,
 "nbformat_minor": 2
}
