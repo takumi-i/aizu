{
 "cells": [
  {
   "cell_type": "code",
   "execution_count": 1,
   "metadata": {},
   "outputs": [
    {
     "name": "stdout",
     "output_type": "stream",
     "text": [
      "3 4\n",
      "#.#.\n",
      ".#.#\n",
      "#.#.\n",
      "0 0\n"
     ]
    }
   ],
   "source": [
    "while True:\n",
    "    h, w = map(int,input().split())\n",
    "    if h == w == 0:\n",
    "        break\n",
    "    for i in range(h):\n",
    "        for j in range(w):\n",
    "            if (i+j) % 2 == 0:\n",
    "                print(\"#\",end=\"\")\n",
    "            else:\n",
    "                print(\".\",end=\"\")\n",
    "        print()"
   ]
  }
 ],
 "metadata": {
  "kernelspec": {
   "display_name": "Python 3",
   "language": "python",
   "name": "python3"
  },
  "language_info": {
   "codemirror_mode": {
    "name": "ipython",
    "version": 3
   },
   "file_extension": ".py",
   "mimetype": "text/x-python",
   "name": "python",
   "nbconvert_exporter": "python",
   "pygments_lexer": "ipython3",
   "version": "3.6.5"
  }
 },
 "nbformat": 4,
 "nbformat_minor": 2
}
