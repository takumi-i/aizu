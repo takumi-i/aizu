{
 "cells": [
  {
   "cell_type": "code",
   "execution_count": 2,
   "metadata": {},
   "outputs": [
    {
     "name": "stdout",
     "output_type": "stream",
     "text": [
      "3\n",
      "80 80 80\n",
      "0.0\n",
      "0\n"
     ]
    }
   ],
   "source": [
    "import math\n",
    "while True:\n",
    "    #SS = 0\n",
    "    n = int(input())\n",
    "    if n == 0:\n",
    "        break\n",
    "    s = list(map(int, input().split()))\n",
    "    m = sum(s) / n\n",
    "    #print(m)\n",
    "    #SS = 0\n",
    "    SS = sum(((i - m) ** 2) for i in s)\n",
    "    #print(SS)\n",
    "    A = math.sqrt(SS / n)\n",
    "    print(A)"
   ]
  }
 ],
 "metadata": {
  "kernelspec": {
   "display_name": "Python 3",
   "language": "python",
   "name": "python3"
  },
  "language_info": {
   "codemirror_mode": {
    "name": "ipython",
    "version": 3
   },
   "file_extension": ".py",
   "mimetype": "text/x-python",
   "name": "python",
   "nbconvert_exporter": "python",
   "pygments_lexer": "ipython3",
   "version": "3.6.5"
  }
 },
 "nbformat": 4,
 "nbformat_minor": 2
}
