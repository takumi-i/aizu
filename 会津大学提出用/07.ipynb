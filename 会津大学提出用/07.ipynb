{
 "cells": [
  {
   "cell_type": "code",
   "execution_count": 1,
   "metadata": {},
   "outputs": [
    {
     "name": "stdout",
     "output_type": "stream",
     "text": [
      "5 3 1\n",
      "1 3 5\n"
     ]
    }
   ],
   "source": [
    "a,b,c=input().split()\n",
    "d = int(a)\n",
    "e = int(b)\n",
    "f = int(c)\n",
    "g = [d,e,f]\n",
    "g.sort()\n",
    "print(str(g[0]) +\" \" + str(g[1]) + \" \" + str(g[2]))"
   ]
  }
 ],
 "metadata": {
  "kernelspec": {
   "display_name": "Python 3",
   "language": "python",
   "name": "python3"
  },
  "language_info": {
   "codemirror_mode": {
    "name": "ipython",
    "version": 3
   },
   "file_extension": ".py",
   "mimetype": "text/x-python",
   "name": "python",
   "nbconvert_exporter": "python",
   "pygments_lexer": "ipython3",
   "version": "3.6.5"
  }
 },
 "nbformat": 4,
 "nbformat_minor": 2
}
