{
 "cells": [
  {
   "cell_type": "code",
   "execution_count": 1,
   "metadata": {},
   "outputs": [
    {
     "name": "stdout",
     "output_type": "stream",
     "text": [
      "1 2 3 4 5 6\n",
      "6 2 4 3 5 1\n",
      "YES\n"
     ]
    }
   ],
   "source": [
    "import random\n",
    "D  = list(map(int, input().split()))\n",
    "D2 = list(map(int, input().split()))\n",
    "CC = 0\n",
    "#O = str(input())\n",
    "#l = list(O)\n",
    "l = [\"E\", \"W\", \"S\", \"N\"]\n",
    "for i in range(1000000):\n",
    "    random.shuffle(l)\n",
    "    if l[0] == \"E\":\n",
    "        DD   = D[0]\n",
    "        D[0] = D[3]\n",
    "        D[3] = D[5]\n",
    "        D[5] = D[2]\n",
    "        #D[2] = D[0]\n",
    "        D[2] = DD\n",
    "    if l[0] == \"W\":\n",
    "        DD = D[3]\n",
    "        D[3] = D[0]\n",
    "        D[0] = D[2]\n",
    "        D[2] = D[5]\n",
    "        #D[5] = D[3]\n",
    "        D[5] = DD\n",
    "        \n",
    "    if l[0] == \"S\":\n",
    "        DD = D[0]\n",
    "        D[0] = D[4]\n",
    "        D[4] = D[5]\n",
    "        D[5] = D[1]\n",
    "        #D[1] = D[0]\n",
    "        D[1] = DD\n",
    "    if l[0] == \"N\":\n",
    "        DD = D[4]\n",
    "        D[4] = D[0]\n",
    "        D[0] = D[1]\n",
    "        D[1] = D[5]\n",
    "        #D[5] = D[4]\n",
    "        D[5] = DD\n",
    "    c = 0\n",
    "    for i in range(6):\n",
    "        if D[i] == D2[i]:\n",
    "            c = c + 1\n",
    "        if c == 6:\n",
    "            CC = 1\n",
    "    if CC == 1:\n",
    "        break\n",
    "if CC == 1:\n",
    "    print(\"YES\")\n",
    "else:\n",
    "    print(\"NO\")"
   ]
  }
 ],
 "metadata": {
  "kernelspec": {
   "display_name": "Python 3",
   "language": "python",
   "name": "python3"
  },
  "language_info": {
   "codemirror_mode": {
    "name": "ipython",
    "version": 3
   },
   "file_extension": ".py",
   "mimetype": "text/x-python",
   "name": "python",
   "nbconvert_exporter": "python",
   "pygments_lexer": "ipython3",
   "version": "3.6.5"
  }
 },
 "nbformat": 4,
 "nbformat_minor": 2
}
