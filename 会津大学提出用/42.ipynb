{
 "cells": [
  {
   "cell_type": "code",
   "execution_count": 1,
   "metadata": {},
   "outputs": [
    {
     "name": "stdout",
     "output_type": "stream",
     "text": [
      "1 2 3 4 5 6\n",
      "3\n",
      "6 5\n",
      "3\n",
      "1 3\n",
      "5\n",
      "3 2\n",
      "6\n"
     ]
    }
   ],
   "source": [
    "D = list(map(int, input().split()))\n",
    "q = int(input())\n",
    "for i in range(q):\n",
    "    t, f = map(int, input().split())\n",
    "    if t == D[0] and f == D[1]:\n",
    "        print(D[2])\n",
    "    if t == D[0] and f == D[2]:\n",
    "        print(D[4])\n",
    "    if t == D[0] and f == D[4]:\n",
    "        print(D[3])\n",
    "    if t == D[0] and f == D[3]:\n",
    "        print(D[1])\n",
    "    if t == D[1] and f == D[5]:\n",
    "        print(D[2])\n",
    "    if t == D[1] and f == D[2]:\n",
    "        print(D[0])\n",
    "    if t == D[1] and f == D[0]:\n",
    "        print(D[3])\n",
    "    if t == D[1] and f == D[3]:\n",
    "        print(D[5])\n",
    "    if t == D[2] and f == D[5]:\n",
    "        print(D[4])\n",
    "    if t == D[2] and f == D[4]:\n",
    "        print(D[0])\n",
    "    if t == D[2] and f == D[0]:\n",
    "        print(D[1])\n",
    "    if t == D[2] and f == D[1]:\n",
    "        print(D[5])\n",
    "    if t == D[3] and f == D[4]:\n",
    "        print(D[5])\n",
    "    if t == D[3] and f == D[5]:\n",
    "        print(D[1])\n",
    "    if t == D[3] and f == D[1]:\n",
    "        print(D[0])\n",
    "    if t == D[3] and f == D[0]:\n",
    "        print(D[4])\n",
    "    if t == D[4] and f == D[2]:\n",
    "        print(D[5])\n",
    "    if t == D[4] and f == D[5]:\n",
    "        print(D[3])\n",
    "    if t == D[4] and f == D[3]:\n",
    "        print(D[0])\n",
    "    if t == D[4] and f == D[0]:\n",
    "        print(D[2])\n",
    "    if t == D[5] and f == D[4]:\n",
    "        print(D[2])\n",
    "    if t == D[5] and f == D[2]:\n",
    "        print(D[1])\n",
    "    if t == D[5] and f == D[1]:\n",
    "        print(D[3])\n",
    "    if t == D[5] and f == D[3]:\n",
    "        print(D[4])"
   ]
  }
 ],
 "metadata": {
  "kernelspec": {
   "display_name": "Python 3",
   "language": "python",
   "name": "python3"
  },
  "language_info": {
   "codemirror_mode": {
    "name": "ipython",
    "version": 3
   },
   "file_extension": ".py",
   "mimetype": "text/x-python",
   "name": "python",
   "nbconvert_exporter": "python",
   "pygments_lexer": "ipython3",
   "version": "3.6.5"
  }
 },
 "nbformat": 4,
 "nbformat_minor": 2
}
