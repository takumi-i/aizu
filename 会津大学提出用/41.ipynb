{
 "cells": [
  {
   "cell_type": "code",
   "execution_count": 1,
   "metadata": {},
   "outputs": [
    {
     "name": "stdout",
     "output_type": "stream",
     "text": [
      "1 2 4 8 16 32\n",
      "EESWN\n",
      "32\n"
     ]
    }
   ],
   "source": [
    "D = list(map(int, input().split()))\n",
    "O = str(input())\n",
    "l = list(O)\n",
    "for i in range(len(O)):\n",
    "    if l[i] == \"E\":\n",
    "        DD   = D[0]\n",
    "        D[0] = D[3]\n",
    "        D[3] = D[5]\n",
    "        D[5] = D[2]\n",
    "        #D[2] = D[0]\n",
    "        D[2] = DD\n",
    "    if l[i] == \"W\":\n",
    "        DD = D[3]\n",
    "        D[3] = D[0]\n",
    "        D[0] = D[2]\n",
    "        D[2] = D[5]\n",
    "        #D[5] = D[3]\n",
    "        D[5] = DD\n",
    "        \n",
    "    if l[i] == \"S\":\n",
    "        DD = D[0]\n",
    "        D[0] = D[4]\n",
    "        D[4] = D[5]\n",
    "        D[5] = D[1]\n",
    "        #D[1] = D[0]\n",
    "        D[1] = DD\n",
    "    if l[i] == \"N\":\n",
    "        DD = D[4]\n",
    "        D[4] = D[0]\n",
    "        D[0] = D[1]\n",
    "        D[1] = D[5]\n",
    "        #D[5] = D[4]\n",
    "        D[5] = DD\n",
    "        \n",
    "print(D[0])\n",
    "        "
   ]
  }
 ],
 "metadata": {
  "kernelspec": {
   "display_name": "Python 3",
   "language": "python",
   "name": "python3"
  },
  "language_info": {
   "codemirror_mode": {
    "name": "ipython",
    "version": 3
   },
   "file_extension": ".py",
   "mimetype": "text/x-python",
   "name": "python",
   "nbconvert_exporter": "python",
   "pygments_lexer": "ipython3",
   "version": "3.6.5"
  }
 },
 "nbformat": 4,
 "nbformat_minor": 2
}
